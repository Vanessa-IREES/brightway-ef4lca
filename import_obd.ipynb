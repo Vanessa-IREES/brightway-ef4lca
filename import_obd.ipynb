{
 "cells": [
  {
   "cell_type": "code",
   "execution_count": 2,
   "id": "748f2cec",
   "metadata": {},
   "outputs": [],
   "source": [
    "from pathlib import Path\n",
    "from brightway2 import *\n",
    "\n",
    "from obd import agg_floats, custom_aggregate, import_impact_categories_db, prepare_and_write_new_db, read_and_prepare_obd_data\n",
    "\n",
    "from utils import load_config, download_csv_file"
   ]
  },
  {
   "cell_type": "code",
   "execution_count": null,
   "id": "524b0aa6-c380-4280-bffc-b3ae74f2e776",
   "metadata": {},
   "outputs": [],
   "source": [
    "# setup brigthway stuff\n",
    "projects.set_current(\"test1\")\n",
    "bw2setup()\n",
    "biosphere_db =  Database(\"biosphere3\")"
   ]
  },
  {
   "cell_type": "code",
   "execution_count": null,
   "id": "dc014542-4826-48ef-bb32-ab9e7448d9c1",
   "metadata": {},
   "outputs": [],
   "source": [
    "# Be aware that DATA-DIR is the directory where the Ökobaudat csv file is contained\n",
    "# use backslash for windows ie.: Path(r'c:\\my\\folder with blanks\\import_obd').resolve()\n",
    "data_dir = Path(r'.').resolve()\n",
    "print(f'data dir is: {data_dir}')"
   ]
  },
  {
   "cell_type": "code",
   "execution_count": null,
   "id": "a66d46e4-6230-49a0-ab29-ecb9490c1071",
   "metadata": {},
   "outputs": [],
   "source": [
    "# Load the configuration\n",
    "config = load_config(data_dir)\n",
    "#print(f'config is: {config}')"
   ]
  },
  {
   "cell_type": "code",
   "execution_count": null,
   "id": "eb7f1292",
   "metadata": {},
   "outputs": [],
   "source": [
    "# check and download oekobaudat if configured\n",
    "should_dl = config['should_download']\n",
    "print(f'Will download current oekobaudat: {should_dl}')\n",
    "if should_dl:\n",
    "    download_csv_file(config)"
   ]
  },
  {
   "cell_type": "code",
   "execution_count": null,
   "id": "da6f26ef-39f4-4b18-868b-c4a05e90c92a",
   "metadata": {},
   "outputs": [],
   "source": [
    "#prepare the dataframe containing all relevant data from the oekobaudat file\n",
    "obd_df = read_and_prepare_obd_data(config, data_dir)"
   ]
  },
  {
   "cell_type": "code",
   "execution_count": null,
   "id": "d8315b39-dade-4e99-9e80-13625bb7a723",
   "metadata": {},
   "outputs": [],
   "source": [
    "# import a database which includes biosphere proxies, ie. for each configured oekobaudat\n",
    "# impact category there is one or more link to a biosphere entry which represents the respective\n",
    "# obd impact category. \n",
    "# Eg. global warming potential is represented by a certain amount of co2 emission.\n",
    "import_impact_categories_db(config, biosphere_db)\n",
    "#import_impact_categories_meths(config)"
   ]
  },
  {
   "cell_type": "code",
   "execution_count": null,
   "id": "fc2a1fde-0f15-47ee-919e-e8f1911fcceb",
   "metadata": {},
   "outputs": [],
   "source": [
    "# aggregate floats by product_id\n",
    "# this generates products which impact categories have the sum of all modules \n",
    "# and imports it as db to brightway, the db name is \"agg_products\"\n",
    "all_modules_aggregated_dict = obd_df.groupby(\n",
    "    [config[\"product_id_label\"]], group_keys=False).agg(agg_floats, config[\"ic_names\"])\n",
    "# print(grouped_df)\n",
    "all_modules_aggregated_dict = all_modules_aggregated_dict.reset_index()\n",
    "prepare_and_write_new_db(config, \"agg_products\",\n",
    "                         all_modules_aggregated_dict, config[\"product_id_label\"], config[\"ic_names\"])"
   ]
  },
  {
   "cell_type": "code",
   "execution_count": null,
   "id": "75672b06-9a79-4c1a-9273-7e6f6010dd3d",
   "metadata": {},
   "outputs": [],
   "source": [
    "# make new aggregation columns: aggregate modules A1 to A5, \n",
    "# remove original columns and keep only new column: 'A1-A5', the new dataframe is called agg_A\n",
    "agg_A = custom_aggregate(config, obd_df, ['A1-A3', 'A4', 'A5'], True)\n",
    "\n",
    "# make a new column called: 'pml' and write into it the product id (config[\"product_id_label\"]) \n",
    "# plus the module. This enables importing the modules of products as own activities \n",
    "# which allows doing lca over certain modules only.\n",
    "mod_column_label = 'pml'\n",
    "agg_A[mod_column_label] = agg_A.apply(\n",
    "    lambda row: row[config[\"product_id_label\"]] + '#' + row['Modul'], axis=1)\n",
    "\n",
    "# write this new dataframe: agg_A to a brightway db called mod_products\n",
    "prepare_and_write_new_db(config, \"mod_products\", agg_A, mod_column_label, config[\"ic_names\"])"
   ]
  }
 ],
 "metadata": {
  "kernelspec": {
   "display_name": "Python 3 (ipykernel)",
   "language": "python",
   "name": "python3"
  },
  "language_info": {
   "codemirror_mode": {
    "name": "ipython",
    "version": 3
   },
   "file_extension": ".py",
   "mimetype": "text/x-python",
   "name": "python",
   "nbconvert_exporter": "python",
   "pygments_lexer": "ipython3",
   "version": "3.12.3"
  }
 },
 "nbformat": 4,
 "nbformat_minor": 5
}
